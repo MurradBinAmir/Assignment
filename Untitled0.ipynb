{
  "nbformat": 4,
  "nbformat_minor": 0,
  "metadata": {
    "colab": {
      "provenance": [],
      "gpuType": "T4",
      "authorship_tag": "ABX9TyM4iXhhl2YQ8ZNjPNtDJDQ0",
      "include_colab_link": true
    },
    "kernelspec": {
      "name": "python3",
      "display_name": "Python 3"
    },
    "language_info": {
      "name": "python"
    },
    "accelerator": "GPU"
  },
  "cells": [
    {
      "cell_type": "markdown",
      "metadata": {
        "id": "view-in-github",
        "colab_type": "text"
      },
      "source": [
        "<a href=\"https://colab.research.google.com/github/MurradBinAmir/Assignment/blob/main/Untitled0.ipynb\" target=\"_parent\"><img src=\"https://colab.research.google.com/assets/colab-badge.svg\" alt=\"Open In Colab\"/></a>"
      ]
    },
    {
      "cell_type": "markdown",
      "source": [
        "inetializing variable a & b"
      ],
      "metadata": {
        "id": "hl2QPDIiItt3"
      }
    },
    {
      "cell_type": "code",
      "source": [
        "from google.colab import drive\n",
        "drive.mount('/content/drive')"
      ],
      "metadata": {
        "id": "UcqwbeFWGHry"
      },
      "execution_count": null,
      "outputs": []
    },
    {
      "cell_type": "code",
      "execution_count": null,
      "metadata": {
        "id": "GOC8f1wGIcGI"
      },
      "outputs": [],
      "source": [
        "a = 6\n",
        "b = 456"
      ]
    },
    {
      "cell_type": "markdown",
      "source": [
        "Addition"
      ],
      "metadata": {
        "id": "RiP5sFnhJJnD"
      }
    },
    {
      "cell_type": "code",
      "source": [
        "print('addition =',a+b)"
      ],
      "metadata": {
        "colab": {
          "base_uri": "https://localhost:8080/"
        },
        "id": "8E8QwEAFJR-5",
        "outputId": "6b0f7d36-b000-4b05-c472-40e230990144"
      },
      "execution_count": null,
      "outputs": [
        {
          "output_type": "stream",
          "name": "stdout",
          "text": [
            "addition = 462\n"
          ]
        }
      ]
    },
    {
      "cell_type": "markdown",
      "source": [
        "Substraction"
      ],
      "metadata": {
        "id": "eZ3QuGtUKgSW"
      }
    },
    {
      "cell_type": "code",
      "source": [
        "print('addition =',a-b)"
      ],
      "metadata": {
        "colab": {
          "base_uri": "https://localhost:8080/"
        },
        "id": "vhmb1M8wKlxo",
        "outputId": "6a9d6b9f-ff67-4c07-c5f8-6ff5af6601a9"
      },
      "execution_count": null,
      "outputs": [
        {
          "output_type": "stream",
          "name": "stdout",
          "text": [
            "addition = -450\n"
          ]
        }
      ]
    },
    {
      "cell_type": "markdown",
      "source": [
        "Multiplication"
      ],
      "metadata": {
        "id": "uijqOZOrKs47"
      }
    },
    {
      "cell_type": "code",
      "source": [
        "print('addition =',a*b)"
      ],
      "metadata": {
        "colab": {
          "base_uri": "https://localhost:8080/"
        },
        "id": "6kTk5qDNKwGG",
        "outputId": "b797c654-6f02-428d-ca8e-a80b90e465bf"
      },
      "execution_count": null,
      "outputs": [
        {
          "output_type": "stream",
          "name": "stdout",
          "text": [
            "addition = 2736\n"
          ]
        }
      ]
    },
    {
      "cell_type": "markdown",
      "source": [
        "Division"
      ],
      "metadata": {
        "id": "7fzlc_iDKz53"
      }
    },
    {
      "cell_type": "code",
      "source": [
        "print('addition =',a/b)"
      ],
      "metadata": {
        "id": "ymFzo5FwK8QT",
        "outputId": "e103e9ce-da07-45d8-ad41-45c799809938",
        "colab": {
          "base_uri": "https://localhost:8080/"
        }
      },
      "execution_count": null,
      "outputs": [
        {
          "output_type": "stream",
          "name": "stdout",
          "text": [
            "addition = 0.013157894736842105\n"
          ]
        }
      ]
    },
    {
      "cell_type": "code",
      "source": [
        "print(\"hello World\")"
      ],
      "metadata": {
        "id": "7PkJNYlN9u3g",
        "colab": {
          "base_uri": "https://localhost:8080/"
        },
        "outputId": "5460fa5f-5f03-4c24-cc47-b7bd948125a9"
      },
      "execution_count": null,
      "outputs": [
        {
          "output_type": "stream",
          "name": "stdout",
          "text": [
            "hello World\n"
          ]
        }
      ]
    }
  ]
}