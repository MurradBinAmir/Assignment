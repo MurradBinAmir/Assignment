{
  "cells": [
    {
      "cell_type": "markdown",
      "metadata": {
        "id": "EQv8IKocaWiG"
      },
      "source": [
        "Complex Multi layer perceptron"
      ]
    },
    {
      "cell_type": "code",
      "execution_count": 3,
      "metadata": {
        "colab": {
          "base_uri": "https://localhost:8080/"
        },
        "id": "EPlkKAFvaSS5",
        "outputId": "edb61e9b-312f-40cd-b2b2-80fd723ce857"
      },
      "outputs": [
        {
          "name": "stdout",
          "output_type": "stream",
          "text": [
            "Input layer \n",
            " input 1 = 0.4\n",
            "\n",
            "Hidden layer 1\n",
            "hl1_p1 = 0.020000000000000004\n",
            "hl1_p2 = 0.12\n",
            "\n",
            "Hidden layer 2\n",
            "hl2_p1 = 0.023000000000000003\n",
            "hl2_p2 = 0.20199999999999999\n",
            "\n",
            "Hidden layer 3\n",
            "hl3_p1 = 0.02645\n",
            "hl3_p2 = 0.20199999999999999\n",
            "\n",
            "Hidden layer 4\n",
            "hl4_p1 = 0.0304175\n",
            "hl4_p2 = 1.7564275\n",
            "hl4_p3 = 0.1388625\n"
          ]
        }
      ],
      "source": [
        "#input Layer\n",
        "x1 = 0.4\n",
        "print(f\"Input layer \\n input 1 = {x1}\")\n",
        "#Hidden layer 1\n",
        "# //////////////////////////////////////////////////////////////////////////\n",
        "#weight of layer 1 perceptron 1 input 1\n",
        "w1_1_1 = 0.05\n",
        "#hiden layer 1 perceptron 1\n",
        "hl1_p1 = (x1/w1_1_1)\n",
        "print(f\"\\nHidden layer 1\\nhl1_p1 = {hl1_p1}\")\n",
        "\n",
        "#weight of layer 1 perceptron 2\n",
        "w1_2_1 = 0.30\n",
        "hl1_p2 = (x1/w1_2_1)\n",
        "print(f\"hl1_p2 = {hl1_p2}\")\n",
        "\n",
        "#Hidden layer 2\n",
        "# //////////////////////////////////////////////////////////////////////////\n",
        "#weight of layer 2 perceptron 1 input 1\n",
        "w2_1_1 = 1.15\n",
        "#hiden layer 2 perceptron 1\n",
        "hl2_p1 = (hl1_p1%w2_1_1)\n",
        "print(f\"\\nHidden layer 2\\nhl2_p1 = {hl2_p1}\")\n",
        "\n",
        "#weight of layer 2 perceptron 2\n",
        "w2_2_1 = 1.40\n",
        "w2_2_2 = 1.45\n",
        "hl2_p2 = (hl1_p1%w2_2_1) + (hl1_p2%w2_2_2)\n",
        "print(f\"hl2_p2 = {hl2_p2}\")\n",
        "\n",
        "#Hidden layer 3\n",
        "# //////////////////////////////////////////////////////////////////////////\n",
        "#weight of layer 3 perceptron 1 input 1\n",
        "w3_1_4 = 2.40\n",
        "#hiden layer 3 perceptron 1\n",
        "hl3_p1 = (hl2_p1+w2_1_1)\n",
        "print(f\"\\nHidden layer 3\\nhl3_p1 = {hl3_p1}\")\n",
        "\n",
        "#weight of layer 3 perceptron 2\n",
        "w3_2_2 = 2.65\n",
        "w3_2_1 = 2.70\n",
        "hl3_p2 = (hl2_p1+w2_2_1) + (hl2_p2-w2_2_2)\n",
        "print(f\"hl3_p2 = {hl2_p2}\")\n",
        "\n",
        "#Hidden layer 4\n",
        "# //////////////////////////////////////////////////////////////////////////\n",
        "#weight of layer 4 perceptron 1 input 1\n",
        "w4_1_1 = 3.65\n",
        "#hiden layer 4 perceptron 1\n",
        "hl4_p1 = (hl3_p1-w2_1_1)\n",
        "print(f\"\\nHidden layer 4\\nhl4_p1 = {hl4_p1}\")\n",
        "\n",
        "#weight of layer 4 perceptron 2\n",
        "w4_2_1 = 4.95\n",
        "w4_2_2 = 5.00\n",
        "hl4_p2 = (hl3_p1-w4_2_1) + (hl3_p2-w4_2_2)\n",
        "print(f\"hl4_p2 = {hl4_p2}\")\n",
        "\n",
        "#weight of layer 4 perceptron 3\n",
        "w4_3_1 = 5.25\n",
        "w4_3_2 = 5.30\n",
        "w4_3_3 = 5.35\n",
        "w4_3_4 = 5.40\n",
        "w4_3_5 = 5.45\n",
        "hl4_p3 = (hl3_p1*w4_3_1)\n",
        "print(f\"hl4_p3 = {hl4_p3}\")"
      ]
    }
  ],
  "metadata": {
    "colab": {
      "provenance": []
    },
    "kernelspec": {
      "display_name": "Python 3",
      "name": "python3"
    },
    "language_info": {
      "codemirror_mode": {
        "name": "ipython",
        "version": 3
      },
      "file_extension": ".py",
      "mimetype": "text/x-python",
      "name": "python",
      "nbconvert_exporter": "python",
      "pygments_lexer": "ipython3",
      "version": "3.10.9"
    }
  },
  "nbformat": 4,
  "nbformat_minor": 0
}
